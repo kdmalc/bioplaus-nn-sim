{
 "cells": [
  {
   "cell_type": "markdown",
   "metadata": {},
   "source": [
    "# Varying Conductivity Patterns\n",
    "> __Purpose__: The goal of this notebook is to create a function to randomly generate the conductivity matrix for a neural network."
   ]
  },
  {
   "cell_type": "code",
   "execution_count": 1,
   "metadata": {},
   "outputs": [],
   "source": [
    "from scipy.integrate import odeint\n",
    "import numpy as np\n",
    "import matplotlib.pyplot as plt\n",
    "import matplotlib as mpl\n",
    "\n",
    "import network_funcs\n",
    "import os.path\n",
    "\n",
    "COLOR = 'grey'\n",
    "mpl.rcParams['text.color'] = COLOR\n",
    "mpl.rcParams['axes.labelcolor'] = COLOR\n",
    "mpl.rcParams['xtick.color'] = COLOR\n",
    "mpl.rcParams['ytick.color'] = COLOR"
   ]
  },
  {
   "cell_type": "code",
   "execution_count": 3,
   "metadata": {},
   "outputs": [],
   "source": [
    "#Things that don't need to be assigned every time\n",
    "t = np.linspace(0,50,2000) #time vector\n",
    "vI = [0,0,0] #vector needed to control the current\n",
    "V1 = -58; n1 = 0.05; m1 = 0.33; h1 = 0.6 #Voltage and gating var ICs\n",
    "#V0: Manipulates the x location placement\n",
    "V0n1 = -49; V0m1 = -36; V0h1 = -55\n",
    "#Sigma: Manipulates the steepness, bigger sigma means less steep step\n",
    "sigman1 = 18; sigmam1 = 10; sigmah1 = -8\n",
    "#Tau's\n",
    "tau_n_mean1 = 2.785; tau_m_mean1 = 0.258; tau_h_mean1 = 2.810\n",
    "node1Base = [V1, n1, m1, h1, 0, 0, \n",
    "         V0n1, V0m1, V0h1, 0, 0, \n",
    "         sigman1, sigmam1, sigmah1, 0, 0, \n",
    "         tau_n_mean1, tau_m_mean1, tau_h_mean1, 0, 0]"
   ]
  },
  {
   "cell_type": "code",
   "execution_count": 68,
   "metadata": {},
   "outputs": [],
   "source": [
    "def vary_cond_pattern(numNodes,filename,linear=False,numZeros=0):\n",
    "    save_path = os.getcwd() + r\"\\\\NetworkCouplingParams\"\n",
    "    \n",
    "    #Is the for loop necessary?\n",
    "    for lineNum in range(numNodes):\n",
    "        completeName = os.path.join(save_path, filename+\".txt\")\n",
    "        \n",
    "        if linear:\n",
    "            pass\n",
    "        else:\n",
    "            max_conx = int(numNodes*(numNodes-1)*0.5) * 2 - numZeros #Bidirectional\n",
    "            maxConx_perNode = numNodes-1\n",
    "            \n",
    "            #Generate a matrix of random numbers\n",
    "            my_rand_1D = np.random.rand(1,max_conx)/4 #/4 to shift the 0,1 dist to 0,0.25\n",
    "            my_zeros = [0]*numZeros\n",
    "            my_rand_1D = np.append(my_rand_1D,my_zeros)\n",
    "            cond_matrix = my_rand_1D.reshape(numNodes,maxConx_perNode)\n",
    "            cond_matrix = np.random.shuffle(cond_matrix)\n",
    "            \n",
    "            file = open(completeName, \"w+\")\n",
    "            # Saving the array in a text file\n",
    "            content = str(cond_matrix)\n",
    "            file.write(content)\n",
    "            file.close()\n",
    "\n",
    "            # Displaying the contents of the text file\n",
    "            #file = open(completeName, \"r\")\n",
    "            #content = file.read()\n",
    "\n",
    "            #print(content)\n",
    "            file.close()"
   ]
  },
  {
   "cell_type": "code",
   "execution_count": 72,
   "metadata": {},
   "outputs": [],
   "source": [
    "numNodes = 10\n",
    "numTrials = 5\n",
    "\n",
    "for trial in range(numTrials):\n",
    "    trial = numTrials\n",
    "    \n",
    "    for zeros in range(11):\n",
    "        filename = \"x\"+str(numNodes)+\"_\"+str(zeros)+\"_\"+str(trial)\n",
    "        vary_cond_pattern(numNodes,filename,numZeros = zeros)"
   ]
  },
  {
   "cell_type": "code",
   "execution_count": null,
   "metadata": {},
   "outputs": [],
   "source": []
  }
 ],
 "metadata": {
  "kernelspec": {
   "display_name": "Python 3",
   "language": "python",
   "name": "python3"
  },
  "language_info": {
   "codemirror_mode": {
    "name": "ipython",
    "version": 3
   },
   "file_extension": ".py",
   "mimetype": "text/x-python",
   "name": "python",
   "nbconvert_exporter": "python",
   "pygments_lexer": "ipython3",
   "version": "3.7.6"
  }
 },
 "nbformat": 4,
 "nbformat_minor": 4
}
