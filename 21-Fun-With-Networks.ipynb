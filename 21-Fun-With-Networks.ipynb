{
 "cells": [
  {
   "cell_type": "markdown",
   "metadata": {},
   "source": [
    "# Procedural Generation of Networks\n",
    "> __Purpose__: The goal of this notebook is to see the effects of different architectures on the action potentials and how it affects their steady states.  This includes:\n",
    "1. Introducing a way to varying biophysical constants slightly\n",
    "2. Playing with the weighting of the currents\n",
    "3. Changing the number of connections present for each neuron\n",
    "4. Determining the max limits of the current system"
   ]
  },
  {
   "cell_type": "code",
   "execution_count": 11,
   "metadata": {},
   "outputs": [],
   "source": [
    "from scipy.integrate import odeint\n",
    "import numpy as np\n",
    "import matplotlib.pyplot as plt\n",
    "import matplotlib as mpl\n",
    "\n",
    "#import network_funcs\n",
    "\n",
    "COLOR = 'grey'\n",
    "mpl.rcParams['text.color'] = COLOR\n",
    "mpl.rcParams['axes.labelcolor'] = COLOR\n",
    "mpl.rcParams['xtick.color'] = COLOR\n",
    "mpl.rcParams['ytick.color'] = COLOR"
   ]
  },
  {
   "cell_type": "code",
   "execution_count": 18,
   "metadata": {},
   "outputs": [],
   "source": [
    "#Things that don't need to be assigned every time\n",
    "\n",
    "#time vector\n",
    "t = np.linspace(0,50,2000) #600\n",
    "#vector needed \n",
    "vI = [0,0,0]\n",
    "\n",
    "#####################################################################################\n",
    "\n",
    "V1 = -58; n1 = 0.05; m1 = 0.33; h1 = 0.6\n",
    "#V0: Manipulates the x location placement\n",
    "V0n1 = -49; V0m1 = -36; V0h1 = -55\n",
    "#Sigma: Manipulates the steepness, bigger sigma means less steep step\n",
    "sigman1 = 18; sigmam1 = 10; sigmah1 = -8\n",
    "#Tau's\n",
    "tau_n_mean1 = 2.785; tau_m_mean1 = 0.258; tau_h_mean1 = 2.810\n",
    "\n",
    "node1 = [V1, n1, m1, h1, 0, 0, \n",
    "         V0n1, V0m1, V0h1, 0, 0, \n",
    "         sigman1, sigmam1, sigmah1, 0, 0, \n",
    "         tau_n_mean1, tau_m_mean1, tau_h_mean1, 0, 0]"
   ]
  },
  {
   "cell_type": "code",
   "execution_count": null,
   "metadata": {},
   "outputs": [],
   "source": []
  },
  {
   "cell_type": "code",
   "execution_count": 19,
   "metadata": {},
   "outputs": [
    {
     "name": "stdout",
     "output_type": "stream",
     "text": [
      "Burn in run, looking for NO oscillations\n",
      "Actual run, using a current of 0.1 A @ 5 ms.  Oscillations expected\n"
     ]
    },
    {
     "ename": "NameError",
     "evalue": "name 'odes_progen' is not defined",
     "output_type": "error",
     "traceback": [
      "\u001b[1;31m---------------------------------------------------------------------------\u001b[0m",
      "\u001b[1;31mNameError\u001b[0m                                 Traceback (most recent call last)",
      "\u001b[1;32m<ipython-input-19-d5b918a1530a>\u001b[0m in \u001b[0;36m<module>\u001b[1;34m\u001b[0m\n\u001b[0;32m     20\u001b[0m \u001b[1;31m#BURNED IN initial condition\u001b[0m\u001b[1;33m\u001b[0m\u001b[1;33m\u001b[0m\u001b[1;33m\u001b[0m\u001b[0m\n\u001b[0;32m     21\u001b[0m \u001b[0mvI\u001b[0m \u001b[1;33m=\u001b[0m \u001b[1;33m[\u001b[0m\u001b[1;36m5\u001b[0m\u001b[1;33m,\u001b[0m\u001b[1;36m7\u001b[0m\u001b[1;33m,\u001b[0m\u001b[1;36m0.1\u001b[0m\u001b[1;33m]\u001b[0m\u001b[1;33m\u001b[0m\u001b[1;33m\u001b[0m\u001b[0m\n\u001b[1;32m---> 22\u001b[1;33m \u001b[0mx\u001b[0m \u001b[1;33m=\u001b[0m \u001b[0modeint\u001b[0m\u001b[1;33m(\u001b[0m\u001b[0modes_progen\u001b[0m\u001b[1;33m,\u001b[0m\u001b[0mnetwork_params_BI\u001b[0m\u001b[1;33m,\u001b[0m\u001b[0mt\u001b[0m\u001b[1;33m,\u001b[0m\u001b[0margs\u001b[0m\u001b[1;33m=\u001b[0m\u001b[1;33m(\u001b[0m\u001b[0mI\u001b[0m\u001b[1;33m,\u001b[0m\u001b[0mvI\u001b[0m\u001b[1;33m)\u001b[0m\u001b[1;33m)\u001b[0m\u001b[1;33m\u001b[0m\u001b[1;33m\u001b[0m\u001b[0m\n\u001b[0m\u001b[0;32m     23\u001b[0m \u001b[0mx\u001b[0m \u001b[1;33m=\u001b[0m \u001b[0mnp\u001b[0m\u001b[1;33m.\u001b[0m\u001b[0mtranspose\u001b[0m\u001b[1;33m(\u001b[0m\u001b[0mx\u001b[0m\u001b[1;33m)\u001b[0m\u001b[1;33m\u001b[0m\u001b[1;33m\u001b[0m\u001b[0m\n\u001b[0;32m     24\u001b[0m \u001b[1;33m\u001b[0m\u001b[0m\n",
      "\u001b[1;31mNameError\u001b[0m: name 'odes_progen' is not defined"
     ]
    }
   ],
   "source": [
    "print(\"Burn in run, looking for NO oscillations\")\n",
    "#How many nodes are you using?\n",
    "numNodes = 3\n",
    "node1 = node1 + ([0]*(numNodes-1))\n",
    "#node1 = np.array(node1)\n",
    "#Letting all nodes be the same:\n",
    "network_params = node1*numNodes\n",
    "\n",
    "#####################################################################################\n",
    "\n",
    "x = odeint(network_funcs.odes_progen,network_params,t,args=(network_funcs.I,vI))\n",
    "x = np.transpose(x)\n",
    "\n",
    "#network_funcs.plot_vnmh(x,t,numNodes,gatingVars=True)\n",
    "\n",
    "#Now grab the burned in values from the previous run\n",
    "network_params_BI = x[:,-1]\n",
    "\n",
    "print(\"Actual run, using a current of 0.1 A @ 5 ms.  Oscillations expected\")\n",
    "#BURNED IN initial condition\n",
    "vI = [5,7,0.1]\n",
    "x = odeint(odes_progen,network_params_BI,t,args=(I,vI))\n",
    "x = np.transpose(x)\n",
    "\n",
    "plot_vnmh(x,t,numNodes)"
   ]
  },
  {
   "cell_type": "code",
   "execution_count": null,
   "metadata": {},
   "outputs": [],
   "source": []
  },
  {
   "cell_type": "code",
   "execution_count": null,
   "metadata": {},
   "outputs": [],
   "source": []
  }
 ],
 "metadata": {
  "kernelspec": {
   "display_name": "Python 3",
   "language": "python",
   "name": "python3"
  },
  "language_info": {
   "codemirror_mode": {
    "name": "ipython",
    "version": 3
   },
   "file_extension": ".py",
   "mimetype": "text/x-python",
   "name": "python",
   "nbconvert_exporter": "python",
   "pygments_lexer": "ipython3",
   "version": "3.7.6"
  }
 },
 "nbformat": 4,
 "nbformat_minor": 4
}
