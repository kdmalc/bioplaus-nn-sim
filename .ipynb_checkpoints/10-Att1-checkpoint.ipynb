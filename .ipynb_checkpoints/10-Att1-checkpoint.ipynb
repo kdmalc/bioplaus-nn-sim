{
 "cells": [
  {
   "cell_type": "code",
   "execution_count": 1,
   "metadata": {},
   "outputs": [],
   "source": [
    "from scipy.integrate import odeint, solve_ivp"
   ]
  },
  {
   "cell_type": "markdown",
   "metadata": {},
   "source": [
    "Start embedding your model understanding into computational frameworks. So as an exercise, take a stab at implementing the Hodgkin Huxley model for numerical solution, e.g. using scipy (odeint or newer methods).\n",
    "\n",
    "## Hodgkin-Huxley Model"
   ]
  },
  {
   "cell_type": "code",
   "execution_count": null,
   "metadata": {},
   "outputs": [],
   "source": [
    "#Defining our DiffEQs\n",
    "\n",
    "def voltage1():\n",
    "    pass\n",
    "\n",
    "#Gating Variables:\n",
    "def n2(voltage1):\n",
    "    pass\n",
    "\n",
    "def m3(voltage1):\n",
    "    pass\n",
    "\n",
    "def h4(voltage1):\n",
    "    pass"
   ]
  }
 ],
 "metadata": {
  "kernelspec": {
   "display_name": "Python 3",
   "language": "python",
   "name": "python3"
  },
  "language_info": {
   "codemirror_mode": {
    "name": "ipython",
    "version": 3
   },
   "file_extension": ".py",
   "mimetype": "text/x-python",
   "name": "python",
   "nbconvert_exporter": "python",
   "pygments_lexer": "ipython3",
   "version": "3.7.6"
  }
 },
 "nbformat": 4,
 "nbformat_minor": 4
}
